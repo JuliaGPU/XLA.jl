{
  "nbformat": 4,
  "nbformat_minor": 0,
  "metadata": {
    "colab": {
      "name": "JuliaTPU.ipynb",
      "version": "0.3.2",
      "provenance": [],
      "collapsed_sections": [],
      "include_colab_link": true
    },
    "kernelspec": {
      "name": "julia-1.1",
      "display_name": "Julia 1.1"
    },
    "accelerator": "TPU"
  },
  "cells": [
    {
      "cell_type": "markdown",
      "metadata": {
        "id": "view-in-github",
        "colab_type": "text"
      },
      "source": [
        "<a href=\"https://colab.research.google.com/github/JuliaTPU/XLA.jl/blob/master/docs/JuliaTPU.ipynb\" target=\"_parent\"><img src=\"https://colab.research.google.com/assets/colab-badge.svg\" alt=\"Open In Colab\"/></a>"
      ]
    },
    {
      "metadata": {
        "id": "rGTSFQCx57xF",
        "colab_type": "text"
      },
      "cell_type": "markdown",
      "source": [
        "# Julia on TPUs\n",
        "\n",
        "Run the first code cell below. If you get a python error rather than the julia versioninfo output, Julia is not installed in the current runtime. You will need to run the installation notebook at:\n",
        "\n",
        "> [docs/colab/InstallJuliaXLA.ipynb](https://colab.research.google.com/github/JuliaTPU/XLA.jl/blob/master/docs/InstallJuliaXLA.ipynb)\n",
        "\n",
        "first and then re-open this notebook."
      ]
    },
    {
      "metadata": {
        "id": "oMSuTc3pDlHv",
        "colab_type": "code",
        "outputId": "8a7751fe-66b6-4f52-aaa7-7c0a8d5ed37b",
        "colab": {
          "base_uri": "https://localhost:8080/",
          "height": 153
        }
      },
      "cell_type": "code",
      "source": [
        "versioninfo()"
      ],
      "execution_count": 1,
      "outputs": [
        {
          "output_type": "stream",
          "text": [
            "Julia Version 1.1.0-DEV.567\n",
            "Commit 25d85677078 (2018-11-01 20:33 UTC)\n",
            "Platform Info:\n",
            "  OS: Linux (x86_64-linux-gnu)\n",
            "  CPU: Intel(R) Xeon(R) CPU @ 2.20GHz\n",
            "  WORD_SIZE: 64\n",
            "  LIBM: libopenlibm\n",
            "  LLVM: libLLVM-6.0.1 (ORCJIT, broadwell)\n"
          ],
          "name": "stdout"
        }
      ]
    },
    {
      "metadata": {
        "id": "XSHb7Lpa6MT4",
        "colab_type": "text"
      },
      "cell_type": "markdown",
      "source": [
        "## Activate the XLA compiler project"
      ]
    },
    {
      "metadata": {
        "id": "gHCGoh3f4BlF",
        "colab_type": "code",
        "colab": {
          "base_uri": "https://localhost:8080/",
          "height": 139
        },
        "outputId": "5f2d21d5-2e26-453c-e8d3-df68a35e8826"
      },
      "cell_type": "code",
      "source": [
        "# Note: This may take a while\n",
        "using Pkg\n",
        "pkg\"activate /content/XLA.jl\"\n",
        "using XLA"
      ],
      "execution_count": 5,
      "outputs": [
        {
          "output_type": "stream",
          "text": [
            "┌ Info: Precompiling XLA [1ae4bca4-de81-11e8-0eca-6d3e4e7c4181]\n",
            "└ @ Base loading.jl:1186\n",
            "┌ Warning: Loading a new version of TensorFlow.jl for the first time. This initial load can take around 5 minutes as code is precompiled; subsequent usage will only take a few seconds.\n",
            "└ @ TensorFlow ~/.julia/packages/TensorFlow/LJEpF/src/TensorFlow.jl:3\n",
            "WARNING: could not import NNlib.cudata into Tracker\n",
            "WARNING: Method definition _forward(Zygote.Context{T} where T<:Union{Nothing, Base.IdDict{Any, Any}}, typeof(Base.prod), Any) in module Zygote at /root/.julia/packages/Zygote/0lzma/src/lib/grad.jl:55 overwritten at /root/.julia/packages/Zygote/0lzma/src/lib/grad.jl:21.\n"
          ],
          "name": "stderr"
        }
      ]
    },
    {
      "metadata": {
        "id": "D_05IlJJ6sgW",
        "colab_type": "text"
      },
      "cell_type": "markdown",
      "source": [
        "## Connect to the TPU"
      ]
    },
    {
      "metadata": {
        "id": "7yrElSvl6TIq",
        "colab_type": "code",
        "colab": {
          "base_uri": "https://localhost:8080/",
          "height": 34
        },
        "outputId": "7257bfda-b025-45fb-a250-5df2ffa8c54a"
      },
      "cell_type": "code",
      "source": [
        "using TensorFlow\n",
        "sess = Session(Graph(); target=\"grpc://\"*ENV[\"COLAB_TPU_ADDR\"])"
      ],
      "execution_count": 7,
      "outputs": [
        {
          "output_type": "execute_result",
          "data": {
            "text/plain": [
              "Session(Ptr{Nothing} @0x00007f77bbeaf330)"
            ]
          },
          "metadata": {
            "tags": []
          },
          "execution_count": 7
        }
      ]
    },
    {
      "metadata": {
        "id": "46nI2BXa70G2",
        "colab_type": "code",
        "colab": {
          "base_uri": "https://localhost:8080/",
          "height": 54
        },
        "outputId": "fe068735-13d5-4a1a-eefc-5acceae4e4ea"
      },
      "cell_type": "code",
      "source": [
        "run(sess, TensorFlow.Ops.configure_distributed_tpu())"
      ],
      "execution_count": 8,
      "outputs": [
        {
          "output_type": "execute_result",
          "data": {
            "text/plain": [
              "\"\\n\\x03\\x02\\x02\\x02\\x10\\x01\\x18\\b\\\"\\x18\\0\\0\\0\\0\\0\\x01\\0\\x01\\0\\0\\x01\\x01\\x01\\0\\0\\x01\\0\\x01\\x01\\x01\\0\\x01\\x01\\x01\""
            ]
          },
          "metadata": {
            "tags": []
          },
          "execution_count": 8
        }
      ]
    },
    {
      "metadata": {
        "id": "Y2Re42Fv8EL4",
        "colab_type": "code",
        "colab": {}
      },
      "cell_type": "code",
      "source": [
        ""
      ],
      "execution_count": 0,
      "outputs": []
    }
  ]
}