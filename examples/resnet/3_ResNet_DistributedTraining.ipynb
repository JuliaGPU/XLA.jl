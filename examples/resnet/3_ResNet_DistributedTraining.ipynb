{
 "cells": [
  {
   "cell_type": "markdown",
   "metadata": {},
   "source": [
    "# [`XLA.jl`](https://github.com/JuliaTPU/XLA.jl): ResNet on TPUs - Distributed Training\n",
    "\n",
    "This notebook will show how to train ImageNet distributed "
   ]
  }
 ],
 "metadata": {
  "@webio": {
   "lastCommId": "2d2a2d76ed8a48bf898e575fcae39932",
   "lastKernelId": "f23b12ae-1238-404d-8992-353d23f4d997"
  },
  "kernelspec": {
   "display_name": "Julia 1.1.0-DEV",
   "language": "julia",
   "name": "julia-1.1"
  },
  "language_info": {
   "file_extension": ".jl",
   "mimetype": "application/julia",
   "name": "julia",
   "version": "1.1.0"
  }
 },
 "nbformat": 4,
 "nbformat_minor": 2
}
