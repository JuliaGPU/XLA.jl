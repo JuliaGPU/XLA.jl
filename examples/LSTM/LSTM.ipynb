{
 "cells": [
  {
   "cell_type": "markdown",
   "metadata": {},
   "source": [
    "# [`XLA.jl`](https://github.com/JuliaTPU/XLA.jl): Shakespeare LSTM\n",
    "\n",
    "In this notebook, we will showcase using `XLA.jl` with LSTMs to learn the structure of Shakespearean english"
   ]
  },
  {
   "cell_type": "code",
   "execution_count": 1,
   "metadata": {},
   "outputs": [
    {
     "name": "stdout",
     "output_type": "stream",
     "text": [
      "\u001b[32m\u001b[1m  Updating\u001b[22m\u001b[39m registry at `~/.julia/registries/General`\n",
      "\u001b[32m\u001b[1m  Updating\u001b[22m\u001b[39m git-repo `https://github.com/JuliaRegistries/General.git`\n",
      "\u001b[?25l\u001b[2K\u001b[?25h"
     ]
    }
   ],
   "source": [
    "# Load package versions that are known to work with TPUs, check that Julia version is a known compatible one\n",
    "if Base.GIT_VERSION_INFO.commit != \"f1dffc5c8b6b7f960b5e30835631b4caf4434b04\"\n",
    "    @warn(\"Only the very latest Julia version on the `kf/tpu3` branch is supported!\")\n",
    "end\n",
    "\n",
    "import Pkg\n",
    "Pkg.activate(@__DIR__)\n",
    "Pkg.instantiate()"
   ]
  },
  {
   "cell_type": "code",
   "execution_count": 18,
   "metadata": {},
   "outputs": [
    {
     "name": "stdout",
     "output_type": "stream",
     "text": [
      " => Loaded 4573338-character dataset and encoded into 68-symbol embedding\n"
     ]
    }
   ],
   "source": [
    "using TensorFlow, XLA, Flux, Unrolled, Zygote, Printf\n",
    "\n",
    "# First, let's download our dataset;\n",
    "if !isfile(\"shakespeare_input.txt\")\n",
    "    download(\"https://cs.stanford.edu/people/karpathy/char-rnn/shakespeare_input.txt\", \"shakespeare_input.txt\")\n",
    "end\n",
    "\n",
    "# Read text in as a giant string, convert to array of characters\n",
    "text = collect(String(read(\"shakespeare_input.txt\")))\n",
    "\n",
    "# Generate alphabet, which we will use as an embedding (along with special \"stop\" character '_')\n",
    "alphabet = [unique(text)..., '_']\n",
    "stop = Flux.onehot('_', alphabet)\n",
    "\n",
    "# Embed text through alphabet as UInt32 onehot indices\n",
    "text = UInt32.(map(ch -> Flux.onehotidx(ch, alphabet), text))\n",
    "\n",
    "# We will process 64 sequences of length 50 at a time.  Reshape `text` into\n",
    "# tensors of shape ()\n",
    "batch_size = 64\n",
    "seq_len = 50\n",
    "num_batches = cld(length(text), seq_len*batch_size)\n",
    "padded_length = seq_len*batch_size*nbatches + 1\n",
    "\n",
    "text = map(x->Flux.onehotidx(x, alphabet), collect(String(read(\"shakespeare_input.txt\"))))\n",
    "text_padded = UInt32.(rpad(text, padded_length, 68))\n",
    "\n",
    "\n",
    "\n",
    "println(\" => Loaded $(length(text))-character dataset and encoded into $(length(alphabet))-symbol embedding\")"
   ]
  },
  {
   "cell_type": "code",
   "execution_count": 23,
   "metadata": {},
   "outputs": [
    {
     "name": "stdout",
     "output_type": "stream",
     "text": [
      " => Segmented 1430 batches containing 50-length sequences with a batch size of 64\n"
     ]
    }
   ],
   "source": [
    "using Flux: chunk, batchseq\n",
    "using Base.Iterators: partition\n",
    "\n",
    "# Batch segments of the text together into 50-character long chunks, with a batch size of 64\n",
    "N = length(alphabet)\n",
    "seqlen = 50\n",
    "nbatches = 64\n",
    "\n",
    "# We will be mapping from X -> Y, where Y is X but shifted over so that it predicts\n",
    "# the next character of the text\n",
    "Xs = collect(partition(batchseq(chunk(text[1:end-1], nbatches), stop), seqlen))\n",
    "Ys = collect(partition(batchseq(chunk(text[2:end], nbatches), stop), seqlen));\n",
    "\n",
    "println(\" => Segmented $(length(Xs)) batches containing $(length(Xs[1]))-length sequences with a batch size of $(size(Xs[1][1], 2))\")"
   ]
  },
  {
   "cell_type": "code",
   "execution_count": 52,
   "metadata": {},
   "outputs": [
    {
     "data": {
      "text/plain": [
       "50-element Array{Array{Int64,1},1}:\n",
       " [1, 10, 20, 35, 20, 25, 9, 20, 9, 4  …  13, 20, 9, 20, 9, 29, 10, 6, 4, 9]    \n",
       " [2, 5, 17, 20, 22, 42, 10, 21, 20, 42  …  22, 10, 27, 5, 20, 2, 19, 4, 9, 4]  \n",
       " [3, 4, 17, 19, 41, 12, 41, 6, 32, 12  …  5, 19, 12, 23, 3, 4, 9, 2, 10, 6]    \n",
       " [4, 6, 21, 20, 23, 52, 9, 5, 9, 49  …  6, 6, 12, 6, 5, 23, 3, 3, 5, 16]       \n",
       " [5, 10, 6, 25, 5, 10, 3, 15, 10, 23  …  14, 17, 1, 25, 44, 6, 37, 27, 6, 2]   \n",
       " [6, 15, 32, 24, 9, 29, 27, 6, 4, 20  …  15, 9, 38, 2, 12, 16, 4, 12, 16, 5]   \n",
       " [7, 5, 2, 6, 3, 9, 12, 25, 44, 5  …  3, 5, 28, 4, 28, 9, 6, 12, 2, 23]        \n",
       " [2, 6, 18, 23, 24, 4, 12, 9, 6, 6  …  6, 5, 47, 4, 29, 6, 5, 30, 5, 6]        \n",
       " [5, 4, 5, 20, 12, 4, 50, 6, 45, 29  …  5, 21, 39, 37, 20, 5, 15, 39, 23, 18]  \n",
       " [2, 17, 15, 32, 28, 6, 51, 5, 6, 15  …  23, 6, 52, 19, 18, 23, 10, 34, 6, 23] \n",
       " [8, 2, 3, 9, 10, 21, 40, 23, 16, 32  …  9, 4, 30, 6, 26, 2, 41, 6, 21, 2]     \n",
       " [9, 3, 21, 6, 19, 15, 34, 20, 2, 9  …  4, 17, 11, 5, 24, 4, 22, 28, 15, 29]   \n",
       " [10, 2, 6, 18, 6, 22, 31, 5, 14, 6  …  9, 2, 12, 23, 6, 6, 9, 40, 22, 19]     \n",
       " ⋮                                                                             \n",
       " [22, 18, 10, 22, 6, 24, 9, 49, 43, 5  …  9, 2, 3, 6, 6, 27, 6, 25, 15, 6]     \n",
       " [3, 22, 24, 4, 51, 12, 6, 23, 29, 22  …  18, 3, 21, 43, 5, 6, 18, 33, 14, 25] \n",
       " [5, 3, 48, 9, 10, 13, 20, 9, 9, 9  …  23, 6, 6, 20, 15, 30, 15, 12, 14, 20]   \n",
       " [23, 3, 48, 12, 41, 9, 4, 6, 9, 6  …  6, 18, 15, 19, 22, 9, 22, 12, 9, 21]    \n",
       " [9, 9, 43, 49, 29, 3, 6, 9, 19, 41  …  21, 20, 3, 6, 18, 5, 3, 35, 3, 6]      \n",
       " [3, 10, 9, 15, 20, 9, 19, 56, 4, 3  …  15, 17, 6, 14, 23, 6, 5, 28, 27, 10]   \n",
       " [24, 5, 29, 6, 10, 14, 9, 18, 44, 20  …  22, 5, 14, 15, 12, 16, 4, 34, 12, 15]\n",
       " [6, 6, 2, 16, 19, 5, 4, 22, 12, 10  …  6, 20, 20, 3, 45, 9, 6, 39, 12, 5]     \n",
       " [23, 2, 9, 20, 27, 6, 17, 4, 49, 5  …  39, 2, 29, 6, 14, 6, 43, 28, 28, 6]    \n",
       " [9, 10, 32, 2, 12, 20, 9, 9, 23, 4  …  6, 10, 4, 43, 6, 14, 9, 11, 40, 14]    \n",
       " [20, 6, 9, 29, 12, 10, 3, 6, 2, 27  …  25, 24, 9, 20, 18, 15, 6, 12, 49, 20]  \n",
       " [3, 20, 6, 6, 60, 19, 20, 5, 4, 12  …  20, 12, 23, 19, 15, 3, 14, 28, 45, 29] "
      ]
     },
     "execution_count": 52,
     "metadata": {},
     "output_type": "execute_result"
    }
   ],
   "source": [
    "[Flux.onecold(Xs[1][idx]) for idx in 1:50]\n",
    "#Flux.onecold(collect(Xs[1][1]))"
   ]
  },
  {
   "cell_type": "code",
   "execution_count": 7,
   "metadata": {},
   "outputs": [
    {
     "data": {
      "text/plain": [
       "full_lstm_unrolled_expansion_ (generic function with 1 method)"
      ]
     },
     "execution_count": 7,
     "metadata": {},
     "output_type": "execute_result"
    }
   ],
   "source": [
    "# This function runs the full \n",
    "@unroll function full_lstm(a::Val{alphabet_size}, model, batch_idx, h1, h2, Xss, Yss) where {alphabet_size}\n",
    "    # Unpack model into \n",
    "    (lstm1, lstm2, dense) = model\n",
    "    loss = XRTArray(0f0)\n",
    "    @unroll for i = 1:size(Xss, 1)\n",
    "        idx = XRTArray(i)\n",
    "        x = convert(XRTArray{Float32}, Flux.OneHotMatrix(alphabet_size, Xss[idx, batch_idx, :]))\n",
    "        y = convert(XRTArray{Float32}, Flux.OneHotMatrix(alphabet_size, Yss[idx, batch_idx, :]))\n",
    "        (h1, x) = lstm1(h1, x)\n",
    "        (h2, x) = lstm2(h2, x)\n",
    "        loss += logitcrossentropy(dense(x), y)\n",
    "    end\n",
    "    return loss, (h1, h2)\n",
    "end"
   ]
  },
  {
   "cell_type": "code",
   "execution_count": 8,
   "metadata": {},
   "outputs": [
    {
     "data": {
      "text/plain": [
       "unflatten_opt_state (generic function with 1 method)"
      ]
     },
     "execution_count": 8,
     "metadata": {},
     "output_type": "execute_result"
    }
   ],
   "source": [
    "include(\"../resnet/ADAM_tpu.jl\")"
   ]
  },
  {
   "cell_type": "code",
   "execution_count": 9,
   "metadata": {},
   "outputs": [
    {
     "data": {
      "text/plain": [
       "train_lstm (generic function with 1 method)"
      ]
     },
     "execution_count": 9,
     "metadata": {},
     "output_type": "execute_result"
    }
   ],
   "source": [
    "function train_lstm(::Val{batch_size}, ::Val{seq_len}, ::Val{alphabet_size}, ::Val{nepochs}, ::Val{nbatches}, xrtic, text) where {mb_size, seq_len, alphabet_size, nepochs, nbatches}\n",
    "    (lstm1, lstm2, dense) = xrtic\n",
    "    h1 = Flux.hidden(lstm1)\n",
    "    h2 = Flux.hidden(lstm2)\n",
    "\n",
    "    η = XRTArray(0.01f0)\n",
    "    β = (XRTArray(0.9f0), XRTArray(0.999f0))\n",
    "\n",
    "    flat_model = XLA.flatten_tuple(xrtic)\n",
    "    opt_state = Zygote.map(x -> (zero(x), zero(x), β), flat_model)\n",
    "    opt_state = unflatten_opt_state(xrtic, opt_state)\n",
    "\n",
    "    Xss = reshape(text[1:end-1], (seq_len, nbatches, batch_size))\n",
    "    Yss = reshape(text[2:end],   (seq_len, nbatches, batch_size))\n",
    "\n",
    "    i = XRTArray(0)\n",
    "\n",
    "    # Get the batch-adjusted proper shape for h1 and h2 by running the computation forwards once\n",
    "    (_, (a, b)) = full_lstm(Val(alphabet_size), xrtic, i, h1, h2, Xss, Yss)\n",
    "    h1 = map(z->zeros(typeof(z)), a)\n",
    "    h2 = map(z->zeros(typeof(z)), b)\n",
    "\n",
    "    j = XRTArray(0)\n",
    "    while j < XRTArray(nepochs)\n",
    "        i = XRTArray(0)\n",
    "        while i < XRTArray(nbatches)\n",
    "            ((loss, (h1, h2)), back) = let h1=h1, h2=h2, Xss=Xss, Yss=Yss, xrtic=xrtic, i=i\n",
    "                loss, back = Zygote._forward(\n",
    "                    Zygote.Context{Nothing}(nothing),\n",
    "                    xrtic -> full_lstm(Val(alphabet_size), xrtic, i, h1, h2, Xss, Yss),\n",
    "                    xrtic,\n",
    "                )\n",
    "            end\n",
    "            updates = Zygote.tailmemaybe(back((1f0, nothing)))[1]\n",
    "\n",
    "            # Cross-replica sum our model updates to mix-n-match across all tpus\n",
    "            updates = XLA.unflatten_tuple(updates,\n",
    "                XLA.HloCrossReplicaSum{typeof(+)}((), 0, \"\")(\n",
    "                    +,\n",
    "                    XLA.flatten_tuple(updates)...\n",
    "                )\n",
    "            )\n",
    "\n",
    "            # Update parameters via our optimizer\n",
    "            (xrtic, opt_state) = update_params(xrtic, updates, opt_state, η, β)\n",
    "\n",
    "            # Outfeed the loss\n",
    "            loss = reshape(loss, (1,))\n",
    "            XLA.HloOutfeed()((loss,), XLA.HloAfterAll()())\n",
    "\n",
    "            # Count up\n",
    "            i += XRTArray(1)\n",
    "        end\n",
    "        j += XRTArray(1)\n",
    "    end\n",
    "    return xrtic\n",
    "end"
   ]
  },
  {
   "cell_type": "code",
   "execution_count": 41,
   "metadata": {},
   "outputs": [
    {
     "data": {
      "text/plain": [
       "4573338-element Array{Int64,1}:\n",
       "  1\n",
       "  2\n",
       "  3\n",
       "  4\n",
       "  5\n",
       "  6\n",
       "  7\n",
       "  2\n",
       "  5\n",
       "  2\n",
       "  8\n",
       "  9\n",
       " 10\n",
       "  ⋮\n",
       "  5\n",
       "  6\n",
       " 43\n",
       " 22\n",
       "  5\n",
       "  6\n",
       "  5\n",
       "  3\n",
       " 22\n",
       "  9\n",
       " 27\n",
       " 12"
      ]
     },
     "execution_count": 41,
     "metadata": {},
     "output_type": "execute_result"
    }
   ],
   "source": [
    "\n",
    "\n",
    "#nepochs = 6\n",
    "#compld = @tpu_compile train_lstm(Val(mb_size), Val(seq_len), Val(N), Val(nepochs), Val(nbatches), map_to_tpu(model), XRTArray(text_padded))"
   ]
  },
  {
   "cell_type": "code",
   "execution_count": 50,
   "metadata": {},
   "outputs": [
    {
     "data": {
      "text/plain": [
       "50-element Array{UInt32,1}:\n",
       " 0x00000006\n",
       " 0x00000019\n",
       " 0x00000009\n",
       " 0x00000006\n",
       " 0x00000004\n",
       " 0x00000011\n",
       " 0x00000009\n",
       " 0x00000014\n",
       " 0x0000001a\n",
       " 0x0000001b\n",
       " 0x0000000c\n",
       " 0x0000000c\n",
       " 0x0000001c\n",
       "          ⋮\n",
       " 0x00000007\n",
       " 0x00000002\n",
       " 0x00000005\n",
       " 0x00000002\n",
       " 0x00000008\n",
       " 0x00000009\n",
       " 0x0000000a\n",
       " 0x0000000b\n",
       " 0x0000000c\n",
       " 0x0000001f\n",
       " 0x0000000f\n",
       " 0x00000016"
      ]
     },
     "execution_count": 50,
     "metadata": {},
     "output_type": "execute_result"
    }
   ],
   "source": [
    "Xss = reshape(text_padded[1:end-1], (seqlen, nbatches, mb_size))\n",
    "Xss[:,2,1]"
   ]
  },
  {
   "cell_type": "code",
   "execution_count": null,
   "metadata": {},
   "outputs": [],
   "source": []
  }
 ],
 "metadata": {
  "@webio": {
   "lastCommId": "2137f73099d74b958e7fba5b27ea81aa",
   "lastKernelId": "9a3c714d-317c-4e01-92e5-0c2599cb3217"
  },
  "kernelspec": {
   "display_name": "Julia 1.1.0-DEV",
   "language": "julia",
   "name": "julia-1.1"
  },
  "language_info": {
   "file_extension": ".jl",
   "mimetype": "application/julia",
   "name": "julia",
   "version": "1.1.0"
  }
 },
 "nbformat": 4,
 "nbformat_minor": 2
}
